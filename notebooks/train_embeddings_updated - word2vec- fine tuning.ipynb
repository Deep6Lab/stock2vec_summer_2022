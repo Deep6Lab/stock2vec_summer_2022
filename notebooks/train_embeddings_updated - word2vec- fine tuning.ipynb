{
 "cells": [
  {
   "cell_type": "markdown",
   "metadata": {
    "id": "view-in-github"
   },
   "source": [
    "<a href=\"https://colab.research.google.com/github/gmihaila/stock_risk_prediction/blob/master/notebooks/train_embeddings.ipynb\" target=\"_parent\"><img src=\"https://colab.research.google.com/assets/colab-badge.svg\" alt=\"Open In Colab\"/></a>"
   ]
  },
  {
   "cell_type": "markdown",
   "metadata": {
    "id": "ulgiixgIW6Ai"
   },
   "source": [
    "# Info\n",
    "\n",
    "* Main Dataset: [S&P 500 stock data](https://www.kaggle.com/camnugent/sandp500)\n",
    "\n",
    "* Download detailes for each company: [S&P 500 Companies with Financial Information](https://datahub.io/core/s-and-p-500-companies-financials#resource-s-and-p-500-companies-financials_zip)\n",
    "\n",
    "Stock prices are flutuated in every day. So, in each day, put those stocks in order of price change to one sentence. Then, with certain window size, each stock will show up with highly related stock frequently, because they tend to move their prices together. Source: [stock2vec repo](https://github.com/kh-kim/stock2vec)"
   ]
  },
  {
   "cell_type": "code",
   "execution_count": 1,
   "metadata": {},
   "outputs": [
    {
     "name": "stdout",
     "output_type": "stream",
     "text": [
      "1.10.2+cu113\n",
      "True\n",
      "Num GPUs Available:  1\n"
     ]
    }
   ],
   "source": [
    "import torch\n",
    "print(torch.__version__)\n",
    "print(torch.cuda.is_available())\n",
    "print(\"Num GPUs Available: \", torch.cuda.device_count())"
   ]
  },
  {
   "cell_type": "code",
   "execution_count": 1,
   "metadata": {},
   "outputs": [
    {
     "name": "stdout",
     "output_type": "stream",
     "text": [
      "3.8.10 (tags/v3.8.10:3d8993a, May  3 2021, 11:48:03) [MSC v.1928 64 bit (AMD64)]\n",
      "4.1.2\n",
      "2.8.0\n",
      "Num GPUs Available:  1\n"
     ]
    }
   ],
   "source": [
    "# it works well in python 3.8, gensim 4.1 (for word2vec), and tensorflow 2.8 (for Elmo)\n",
    "import gensim\n",
    "import sys\n",
    "print(sys.version)\n",
    "print(gensim.__version__)\n",
    "\n",
    "import tensorflow as tf\n",
    "import tensorflow_hub as hub\n",
    "print(tf.__version__)\n",
    "print(\"Num GPUs Available: \", len(tf.config.list_physical_devices('GPU')))"
   ]
  },
  {
   "cell_type": "markdown",
   "metadata": {
    "id": "I5UP4hpKYEwF"
   },
   "source": [
    "# Imports"
   ]
  },
  {
   "cell_type": "code",
   "execution_count": 2,
   "metadata": {
    "executionInfo": {
     "elapsed": 135,
     "status": "ok",
     "timestamp": 1646257257806,
     "user": {
      "displayName": "Ziruo Yi",
      "photoUrl": "https://lh3.googleusercontent.com/a-/AOh14GhW2AMS70gbo0eFVbfW3W0d6jTYfiRfVNU-1SKrsQ=s64",
      "userId": "13885267170196786700"
     },
     "user_tz": 360
    },
    "id": "EsbmtkAXXTS3"
   },
   "outputs": [],
   "source": [
    "import pandas as pd\n",
    "import numpy as np\n",
    "import operator\n",
    "import matplotlib.patches as mpatches\n",
    "import seaborn as sns\n",
    "\n",
    "\n",
    "from gensim.models import Word2Vec\n",
    "from gensim.test.utils import common_texts, get_tmpfile\n",
    "from sklearn.decomposition import PCA\n",
    "from sklearn.datasets import make_classification\n",
    "from sklearn.metrics import accuracy_score, confusion_matrix\n",
    "from sklearn.ensemble import RandomForestClassifier\n",
    "from sklearn import svm, tree\n",
    "from sklearn.naive_bayes import GaussianNB\n",
    "from sklearn.model_selection import train_test_split\n",
    "from matplotlib import pyplot\n"
   ]
  },
  {
   "cell_type": "markdown",
   "metadata": {
    "id": "6b3jKgTE-CA_"
   },
   "source": [
    "# Helper Functions"
   ]
  },
  {
   "cell_type": "code",
   "execution_count": 3,
   "metadata": {
    "executionInfo": {
     "elapsed": 119,
     "status": "ok",
     "timestamp": 1646257260476,
     "user": {
      "displayName": "Ziruo Yi",
      "photoUrl": "https://lh3.googleusercontent.com/a-/AOh14GhW2AMS70gbo0eFVbfW3W0d6jTYfiRfVNU-1SKrsQ=s64",
      "userId": "13885267170196786700"
     },
     "user_tz": 360
    },
    "id": "jlRD9lrw-DRm"
   },
   "outputs": [],
   "source": [
    "def sort_dict(mydict, reversed=False):\n",
    "  return sorted(mydict.items(), key=operator.itemgetter(1), reverse=reversed)"
   ]
  },
  {
   "cell_type": "markdown",
   "metadata": {
    "id": "Rl07Ke1pYHqb"
   },
   "source": [
    "# Read Data"
   ]
  },
  {
   "cell_type": "code",
   "execution_count": 4,
   "metadata": {
    "colab": {
     "base_uri": "https://localhost:8080/"
    },
    "executionInfo": {
     "elapsed": 961,
     "status": "ok",
     "timestamp": 1646257262297,
     "user": {
      "displayName": "Ziruo Yi",
      "photoUrl": "https://lh3.googleusercontent.com/a-/AOh14GhW2AMS70gbo0eFVbfW3W0d6jTYfiRfVNU-1SKrsQ=s64",
      "userId": "13885267170196786700"
     },
     "user_tz": 360
    },
    "id": "cL2ITYKD6osW",
    "outputId": "da32879e-461e-4e3f-edca-f99539eb6c9e",
    "scrolled": true
   },
   "outputs": [
    {
     "name": "stdout",
     "output_type": "stream",
     "text": [
      "\n",
      "Companies Details\n",
      "  Symbol                 Name                  Sector\n",
      "0    MMM           3M Company             Industrials\n",
      "1    AOS      A.O. Smith Corp             Industrials\n",
      "2    ABT  Abbott Laboratories             Health Care\n",
      "3   ABBV          AbbVie Inc.             Health Care\n",
      "4    ACN        Accenture plc  Information Technology\n",
      "\n",
      "Companies Stocks\n",
      "         date   open   high    low  close    volume Name\n",
      "0  2013-02-08  15.07  15.12  14.63  14.75   8407500  AAL\n",
      "1  2013-02-11  14.89  15.01  14.26  14.46   8882000  AAL\n",
      "2  2013-02-12  14.45  14.51  14.10  14.27   8126000  AAL\n",
      "3  2013-02-13  14.30  14.94  14.25  14.66  10259500  AAL\n",
      "4  2013-02-14  14.94  14.96  13.16  13.99  31879900  AAL\n"
     ]
    }
   ],
   "source": [
    "# Companies description\n",
    "desc_df = pd.read_csv('stocks_data//constituents.csv')\n",
    "print('\\nCompanies Details')\n",
    "print(desc_df.head())\n",
    "\n",
    "# stocks details\n",
    "stocks_df = pd.read_csv('stocks_data//all_stocks_5yr.csv')#, parse_dates=['date'])\n",
    "print('\\nCompanies Stocks')\n",
    "print(stocks_df.head())"
   ]
  },
  {
   "cell_type": "code",
   "execution_count": 5,
   "metadata": {},
   "outputs": [
    {
     "data": {
      "text/plain": [
       "((505, 3), (619040, 7))"
      ]
     },
     "execution_count": 5,
     "metadata": {},
     "output_type": "execute_result"
    }
   ],
   "source": [
    "desc_df.shape, stocks_df.shape"
   ]
  },
  {
   "cell_type": "markdown",
   "metadata": {
    "id": "LUtMystc-rRd",
    "pycharm": {
     "name": "#%% md\n"
    }
   },
   "source": [
    "# Preprocess"
   ]
  },
  {
   "cell_type": "code",
   "execution_count": 6,
   "metadata": {
    "executionInfo": {
     "elapsed": 124,
     "status": "ok",
     "timestamp": 1646257266544,
     "user": {
      "displayName": "Ziruo Yi",
      "photoUrl": "https://lh3.googleusercontent.com/a-/AOh14GhW2AMS70gbo0eFVbfW3W0d6jTYfiRfVNU-1SKrsQ=s64",
      "userId": "13885267170196786700"
     },
     "user_tz": 360
    },
    "id": "QAuu7VFbzEb_"
   },
   "outputs": [],
   "source": [
    "# dicitonary for companies name and sector\n",
    "companies_names = {symbol:name for symbol, name in desc_df[['Symbol', 'Name']].values}\n",
    "companies_sector = {symbol:sector for symbol, sector in desc_df[['Symbol', 'Sector']].values}\n",
    "\n",
    "# get all companies symbols\n",
    "symbols = stocks_df['Name'].values\n",
    "dates = set(stocks_df['date'].values)\n",
    "dates = sorted(dates)\n",
    "\n",
    "# store each individual date and all its stocks\n",
    "dates_dictionary = {date:{} for date in dates}"
   ]
  },
  {
   "cell_type": "code",
   "execution_count": 7,
   "metadata": {
    "colab": {
     "base_uri": "https://localhost:8080/"
    },
    "executionInfo": {
     "elapsed": 177,
     "status": "ok",
     "timestamp": 1646257268129,
     "user": {
      "displayName": "Ziruo Yi",
      "photoUrl": "https://lh3.googleusercontent.com/a-/AOh14GhW2AMS70gbo0eFVbfW3W0d6jTYfiRfVNU-1SKrsQ=s64",
      "userId": "13885267170196786700"
     },
     "user_tz": 360
    },
    "id": "2MXCHuRMzEcA",
    "outputId": "adf88e8e-8aca-43ac-c559-53c5a65a264e",
    "scrolled": true
   },
   "outputs": [
    {
     "data": {
      "text/plain": [
       "[('MMM', 'Industrials'),\n",
       " ('AOS', 'Industrials'),\n",
       " ('ABT', 'Health Care'),\n",
       " ('ABBV', 'Health Care')]"
      ]
     },
     "execution_count": 7,
     "metadata": {},
     "output_type": "execute_result"
    }
   ],
   "source": [
    "# just take a look companies_sector in list\n",
    "list(companies_sector.items())[:4]"
   ]
  },
  {
   "cell_type": "markdown",
   "metadata": {
    "id": "w10zJhiK_dyn",
    "pycharm": {
     "name": "#%% md\n"
    }
   },
   "source": [
    "# Data for Word Embeddings\n",
    "\n",
    "For each date in out dataset we rearrange each company in ascending order based on the **change in price**.\n",
    "\n",
    "Formula for **change in price** [source](https://pocketsense.com/calculate-market-price-change-common-stock-4829.html):\n",
    "* (closing_price - opening_price) / opening_price\n",
    "\n",
    "We can change the formula to use highest price and lowest price. This is something we will test out."
   ]
  },
  {
   "cell_type": "code",
   "execution_count": 8,
   "metadata": {
    "colab": {
     "base_uri": "https://localhost:8080/"
    },
    "executionInfo": {
     "elapsed": 2004,
     "status": "ok",
     "timestamp": 1646257277963,
     "user": {
      "displayName": "Ziruo Yi",
      "photoUrl": "https://lh3.googleusercontent.com/a-/AOh14GhW2AMS70gbo0eFVbfW3W0d6jTYfiRfVNU-1SKrsQ=s64",
      "userId": "13885267170196786700"
     },
     "user_tz": 360
    },
    "id": "p4ybIa6yW7kP",
    "outputId": "4b98e7ca-eb15-420c-9251-5ef6cb2b49c2",
    "pycharm": {
     "name": "#%%\n"
    }
   },
   "outputs": [
    {
     "name": "stdout",
     "output_type": "stream",
     "text": [
      "['MCO', 'MNST', 'SPGI', 'JNPR', 'AAL', 'BBY', 'INTU', 'SRCL', 'SCHW', 'MCHP', 'FLR', 'CL', 'ILMN', 'PVH', 'FB', 'M', 'IRM', 'VAR', 'DAL', 'BA', 'IT', 'BAC', 'EXC', 'ETR', 'XRX', 'O', 'LEN', 'LB', 'KLAC', 'PWR', 'RJF', 'HUM', 'C', 'VFC', 'EL', 'GLW', 'DHI', 'NEM', 'AEE', 'RMD', 'PG', 'RHT', 'RHI', 'MAS', 'EFX', 'DPS', 'IVZ', 'KSU', 'AES', 'NFLX', 'AXP', 'SIG', 'MU', 'TDG', 'RF', 'HIG', 'FDX', 'VZ', 'IDXX', 'PNC', 'T', 'LUK', 'ABBV', 'TRV', 'DVA', 'KMI', 'CTSH', 'CRM', 'FCX', 'ADM', 'PFE', 'CTAS', 'AMG', 'EQT', 'CCL', 'DGX', 'AKAM', 'NEE', 'GT', 'PEP', 'GPS', 'HCA', 'KO', 'NFX', 'COF', 'PDCO', 'BF.B', 'LEG', 'MET', 'SWK', 'NLSN', 'HRS', 'MDLZ', 'ARE', 'PEG', 'HP', 'CMS', 'ICE', 'DRI', 'MYL', 'SO', 'KMB', 'AJG', 'GRMN', 'DFS', 'BBT', 'CLX', 'PAYX', 'AFL', 'ETN', 'MKC', 'CSCO', 'NRG', 'ANSS', 'UAA', 'NI', 'KORS', 'K', 'TIF', 'UTX', 'BRK.B', 'DLR', 'F', 'GE', 'NVDA', 'NWL', 'EMR', 'A', 'ES', 'AIZ', 'PPL', 'NKE', 'JEC', 'AEP', 'DTE', 'SEE', 'ED', 'ABT', 'WY', 'HSIC', 'WU', 'PCG', 'RTN', 'QCOM', 'AIG', 'FFIV', 'COP', 'KSS', 'GM', 'DISCK', 'AVGO', 'NTRS', 'GD', 'XOM', 'HSY', 'ADS', 'SJM', 'MMC', 'OKE', 'LLY', 'PLD', 'CMCSA', 'CVS', 'MSI', 'TSS', 'DUK', 'WEC', 'ULTA', 'ETFC', 'FMC', 'PCAR', 'MAC', 'TMK', 'BLL', 'GWW', 'ALL', 'MO', 'CBOE', 'AAPL', 'EIX', 'AMZN', 'TSN', 'LRCX', 'STT', 'LNT', 'SBAC', 'AGN', 'NSC', 'VIAB', 'ARNC', 'FE', 'OXY', 'EXPE', 'NDAQ', 'USB', 'CINF', 'IPG', 'WM', 'SWKS', 'V', 'PHM', 'ADSK', 'D', 'SNPS', 'TAP', 'BEN', 'L', 'MOS', 'EBAY', 'SYY', 'RE', 'CNP', 'MRK', 'XYL', 'ROK', 'WHR', 'MMM', 'PBCT', 'HOG', 'XEL', 'DOV', 'MLM', 'BDX', 'CF', 'LUV', 'CHK', 'MON', 'EXPD', 'VRTX', 'CME', 'GIS', 'ADP', 'HCN', 'HON', 'AVY', 'BK', 'FITB', 'TROW', 'CI', 'APC', 'SHW', 'AMD', 'WBA', 'CAG', 'MAA', 'WMT', 'TJX', 'COST', 'ORCL', 'LNC', 'ACN', 'JNJ', 'AMP', 'SCG', 'TRIP', 'SNI', 'ROST', 'WMB', 'NTAP', 'ANTM', 'LH', 'VRSK', 'ZION', 'FL', 'CTL', 'RL', 'FISV', 'INTC', 'CHTR', 'WYN', 'AWK', 'XRAY', 'TPR', 'TGT', 'KR', 'GGP', 'GPC', 'MCD', 'CMA', 'DIS', 'COL', 'MTB', 'PH', 'ESS', 'BIIB', 'LLL', 'GS', 'IFF', 'WFC', 'EXR', 'UDR', 'MDT', 'KMX', 'HCP', 'MCK', 'CA', 'UNP', 'AME', 'BAX', 'ROP', 'ALXN', 'AOS', 'CHRW', 'CVX', 'APA', 'JPM', 'CAH', 'BLK', 'PPG', 'PNW', 'LMT', 'VRSN', 'CCI', 'LOW', 'GOOGL', 'REGN', 'EQR', 'HD', 'XEC', 'COG', 'HBAN', 'HRL', 'SRE', 'AAP', 'NOC', 'STZ', 'MSFT', 'IP', 'PRU', 'KEY', 'RRC', 'XL', 'PKI', 'FRT', 'UPS', 'CAT', 'BSX', 'TWX', 'JCI', 'ABC', 'DE', 'REG', 'MTD', 'GPN', 'RSG', 'NUE', 'BXP', 'SLG', 'CMI', 'PFG', 'ESRX', 'IBM', 'LYB', 'PM', 'ORLY', 'TMO', 'PNR', 'PX', 'APD', 'DISCA', 'AON', 'PKG', 'SYK', 'SBUX', 'JBHT', 'HAL', 'VTR', 'PSX', 'HBI', 'EW', 'CBS', 'PGR', 'TSCO', 'UNH', 'ALGN', 'HES', 'VMC', 'RCL', 'MS', 'AVB', 'PCLN', 'FBHS', 'SPG', 'SLB', 'DRE', 'TEL', 'NOV', 'URI', 'MAR', 'DHR', 'FIS', 'EMN', 'ZBH', 'DG', 'NCLH', 'FTI', 'CSX', 'MA', 'ISRG', 'DISH', 'VNO', 'WAT', 'NBL', 'VLO', 'COO', 'PSA', 'MRO', 'PRGO', 'CMG', 'AYI', 'FAST', 'ECL', 'CB', 'HII', 'CELG', 'STI', 'APH', 'ITW', 'CBG', 'TXT', 'AMGN', 'MHK', 'HRB', 'XLNX', 'UNM', 'ALK', 'ALB', 'CDNS', 'GILD', 'HST', 'BMY', 'CTXS', 'AZO', 'JWN', 'AMAT', 'FLS', 'CERN', 'CPB', 'HOLX', 'KIM', 'OMC', 'SYMC', 'WDC', 'AET', 'DVN', 'UHS', 'UAL', 'ATVI', 'CNC', 'AMT', 'CHD', 'INCY', 'STX', 'MAT', 'EA', 'FLIR', 'BWA', 'TXN', 'LKQ', 'ADBE', 'ADI', 'EQIX', 'ZTS', 'MPC', 'EOG', 'WYNN', 'IR', 'YUM', 'HAS', 'CXO', 'SNA', 'ANDV', 'PXD', 'MGM', 'DLTR', 'AIV']\n"
     ]
    }
   ],
   "source": [
    "# calculate price change for each stock and sort them in each day\n",
    "for date, symbol, op, cl, in stocks_df[['date', 'Name', 'open', 'close']].values:\n",
    "  # CHANGE IN PRICE: (closing_price - opening_price) / opening_price\n",
    "  dates_dictionary[date][symbol] = (cl - op)/op\n",
    "# sort each day reverse order\n",
    "dates_dictionary = {date:sort_dict(dates_dictionary[date]) for date in dates}\n",
    "\n",
    "stocks_w2v_data = [[value[0] for value in dates_dictionary[date]] for date in dates]\n",
    "\n",
    "# print sample\n",
    "print(stocks_w2v_data[0])"
   ]
  },
  {
   "cell_type": "code",
   "execution_count": 9,
   "metadata": {
    "scrolled": true
   },
   "outputs": [
    {
     "data": {
      "text/plain": [
       "476"
      ]
     },
     "execution_count": 9,
     "metadata": {},
     "output_type": "execute_result"
    }
   ],
   "source": [
    "len(dates_dictionary['2013-02-08'])"
   ]
  },
  {
   "cell_type": "markdown",
   "metadata": {
    "id": "3VaGbCgYATEf",
    "pycharm": {
     "name": "#%% md\n"
    }
   },
   "source": [
    "# Train Word Embeddings"
   ]
  },
  {
   "cell_type": "markdown",
   "metadata": {
    "id": "2nf8-xgMzEcC"
   },
   "source": [
    "# Classifiers\n",
    "We utilized classifiers to predict a stock's sector based on its daily price change to determine the quality of the Word2Vec embedding and optimal number of dimensions. After testing 4 classifiers for up to 30 dimensions, we found that the accuracy of our classifiers begins to plateau at 4 dimensions."
   ]
  },
  {
   "cell_type": "code",
   "execution_count": 10,
   "metadata": {
    "colab": {
     "base_uri": "https://localhost:8080/",
     "height": 1000
    },
    "executionInfo": {
     "elapsed": 79455,
     "status": "ok",
     "timestamp": 1646257362851,
     "user": {
      "displayName": "Ziruo Yi",
      "photoUrl": "https://lh3.googleusercontent.com/a-/AOh14GhW2AMS70gbo0eFVbfW3W0d6jTYfiRfVNU-1SKrsQ=s64",
      "userId": "13885267170196786700"
     },
     "user_tz": 360
    },
    "id": "sj5H7pmvzEcC",
    "outputId": "1ddbc548-5624-4062-d3c5-87138033dda2",
    "pycharm": {
     "name": "#%%\n"
    },
    "scrolled": true
   },
   "outputs": [
    {
     "data": {
      "image/png": "[encoded data removed]",
      "text/plain": [
       "<Figure size 432x288 with 1 Axes>"
      ]
     },
     "metadata": {
      "needs_background": "light"
     },
     "output_type": "display_data"
    }
   ],
   "source": [
    "featureNumber = 15\n",
    "labels = ['Industrials' ,'Health Care' ,'Information Technology' ,'Utilities','Financials','Materials', \n",
    "                     'Consumer Discretionary','Real Estate', 'Consumer Staples','Energy',\n",
    "                     'Telecommunication Services']\n",
    "counter = []\n",
    "classifier1_array = []\n",
    "classifier2_array = []\n",
    "classifier3_array = []\n",
    "classifier4_array = []\n",
    "\n",
    "# test accuracy at various number of dimensions\n",
    "for j in range(1,26):\n",
    "    model = Word2Vec(min_count=1, vector_size=j, negative=10, window=10)\n",
    "    model.build_vocab(stocks_w2v_data)\n",
    "    model.wv.load_word2vec_format('stocks_data/GoogleNews-vectors-negative300.bin', binary=True)\n",
    "    model.train(stocks_w2v_data, total_examples=len(stocks_w2v_data), epochs=model.epochs)\n",
    "    words = list(model.wv.key_to_index.keys())\n",
    "    \n",
    "    # X = model[model.wv.vocab] aims to get all vectors. now we can use model.wv.vectors instead\n",
    "    X = model.wv.vectors \n",
    "    Y = list()\n",
    "    for word in words:\n",
    "        Y.append(companies_sector[word])\n",
    "\n",
    "    # split data for cross validation\n",
    "    X_train, X_test, Y_train, Y_test = train_test_split(X, Y, test_size=0.3, random_state=42)\n",
    "    \n",
    "    # predict sectors using GaussianNB, SVM, DecisionTreeClassifier and RandomForestClassifier\n",
    "    model1 = GaussianNB()\n",
    "    model1.fit(X_train, Y_train)\n",
    "    preds1 = model1.predict(X_test)\n",
    "    \n",
    "    model2 = svm.SVC()\n",
    "    model2.fit(X_train, Y_train)\n",
    "    preds2 = model2.predict(X_test)\n",
    "    \n",
    "    model3 = tree.DecisionTreeClassifier()\n",
    "    model3.fit(X_train, Y_train)\n",
    "    preds3 = model3.predict(X_test)\n",
    "    \n",
    "    model4 = RandomForestClassifier()\n",
    "    model4.fit(X_train, Y_train)\n",
    "    preds4 = model4.predict(X_test)\n",
    "    \n",
    "    classifier1_array.append(accuracy_score(Y_test, preds1))\n",
    "    classifier2_array.append(accuracy_score(Y_test, preds2))\n",
    "    classifier3_array.append(accuracy_score(Y_test, preds3))\n",
    "    classifier4_array.append(accuracy_score(Y_test, preds4))\n",
    "    \n",
    "    counter.append(j)\n",
    "\n",
    "np.set_printoptions(threshold=sys.maxsize)\n",
    "\n",
    "pyplot.plot(counter,classifier1_array)\n",
    "pyplot.plot(counter,classifier2_array)\n",
    "pyplot.plot(counter,classifier3_array)\n",
    "pyplot.plot(counter,classifier4_array)\n",
    "pyplot.ylabel('Accuracy')\n",
    "pyplot.xlabel('Dimensions')\n",
    "gnb_patch=mpatches.Patch(color='blue', label='GaussianNB')\n",
    "svm_patch=mpatches.Patch(color='orange', label='svm')\n",
    "dtc_patch=mpatches.Patch(color='green', label='Decision Tree')\n",
    "rfc_patch=mpatches.Patch(color='red', label='Random Forest')\n",
    "pyplot.legend(handles=[gnb_patch,svm_patch, dtc_patch, rfc_patch], loc='best')\n",
    "pyplot.show()"
   ]
  },
  {
   "cell_type": "code",
   "execution_count": null,
   "metadata": {},
   "outputs": [],
   "source": []
  },
  {
   "cell_type": "code",
   "execution_count": null,
   "metadata": {},
   "outputs": [],
   "source": []
  }
 ],
 "metadata": {
  "colab": {
   "collapsed_sections": [],
   "name": "train_embeddings.ipynb",
   "provenance": []
  },
  "kernelspec": {
   "display_name": "Python 3 (ipykernel)",
   "language": "python",
   "name": "python3"
  },
  "language_info": {
   "codemirror_mode": {
    "name": "ipython",
    "version": 3
   },
   "file_extension": ".py",
   "mimetype": "text/x-python",
   "name": "python",
   "nbconvert_exporter": "python",
   "pygments_lexer": "ipython3",
   "version": "3.8.10"
  }
 },
 "nbformat": 4,
 "nbformat_minor": 1
}
