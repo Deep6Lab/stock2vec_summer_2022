{
 "cells": [
  {
   "cell_type": "markdown",
   "metadata": {
    "id": "view-in-github"
   },
   "source": [
    "<a href=\"https://colab.research.google.com/github/gmihaila/stock_risk_prediction/blob/master/notebooks/train_embeddings.ipynb\" target=\"_parent\"><img src=\"https://colab.research.google.com/assets/colab-badge.svg\" alt=\"Open In Colab\"/></a>"
   ]
  },
  {
   "cell_type": "markdown",
   "metadata": {
    "id": "ulgiixgIW6Ai"
   },
   "source": [
    "# Info\n",
    "\n",
    "* Main Dataset: [S&P 500 stock data](https://www.kaggle.com/camnugent/sandp500)\n",
    "\n",
    "* Download detailes for each company: [S&P 500 Companies with Financial Information](https://datahub.io/core/s-and-p-500-companies-financials#resource-s-and-p-500-companies-financials_zip)\n",
    "\n",
    "Stock prices are flutuated in every day. So, in each day, put those stocks in order of price change to one sentence. Then, with certain window size, each stock will show up with highly related stock frequently, because they tend to move their prices together. Source: [stock2vec repo](https://github.com/kh-kim/stock2vec)"
   ]
  },
  {
   "cell_type": "code",
   "execution_count": 1,
   "metadata": {},
   "outputs": [
    {
     "name": "stdout",
     "output_type": "stream",
     "text": [
      "2.8.0\n",
      "Num GPUs Available:  1\n"
     ]
    }
   ],
   "source": [
    "import tensorflow as tf\n",
    "import tensorflow_hub as hub\n",
    "print(tf.__version__)\n",
    "print(\"Num GPUs Available: \", len(tf.config.list_physical_devices('GPU')))"
   ]
  },
  {
   "cell_type": "code",
   "execution_count": 2,
   "metadata": {},
   "outputs": [
    {
     "name": "stdout",
     "output_type": "stream",
     "text": [
      "3.8.10 (tags/v3.8.10:3d8993a, May  3 2021, 11:48:03) [MSC v.1928 64 bit (AMD64)]\n",
      "4.1.2\n"
     ]
    }
   ],
   "source": [
    "import gensim\n",
    "import sys\n",
    "print(sys.version)\n",
    "print(gensim.__version__)"
   ]
  },
  {
   "cell_type": "code",
   "execution_count": 3,
   "metadata": {},
   "outputs": [],
   "source": [
    "# it works well in python 3.8 and gensim 4.1"
   ]
  },
  {
   "cell_type": "markdown",
   "metadata": {
    "id": "I5UP4hpKYEwF"
   },
   "source": [
    "# Imports"
   ]
  },
  {
   "cell_type": "code",
   "execution_count": 4,
   "metadata": {
    "executionInfo": {
     "elapsed": 135,
     "status": "ok",
     "timestamp": 1646257257806,
     "user": {
      "displayName": "Ziruo Yi",
      "photoUrl": "https://lh3.googleusercontent.com/a-/AOh14GhW2AMS70gbo0eFVbfW3W0d6jTYfiRfVNU-1SKrsQ=s64",
      "userId": "13885267170196786700"
     },
     "user_tz": 360
    },
    "id": "EsbmtkAXXTS3"
   },
   "outputs": [],
   "source": [
    "from gensim.models import Word2Vec, FastText, Doc2Vec\n",
    "from gensim.test.utils import common_texts, get_tmpfile\n",
    "from sklearn.decomposition import PCA\n",
    "from sklearn.datasets import make_classification\n",
    "from sklearn.ensemble import RandomForestClassifier\n",
    "from sklearn import svm, tree\n",
    "from sklearn.naive_bayes import GaussianNB\n",
    "from matplotlib import pyplot\n",
    "from tensorflow.keras.preprocessing.sequence import pad_sequences\n",
    "from tensorflow.keras import Input, Model, optimizers\n",
    "from tensorflow.keras.layers import Bidirectional, LSTM, Embedding, RepeatVector, Dense\n",
    "from gensim.models.keyedvectors import KeyedVectors\n",
    "from sklearn.model_selection import train_test_split, KFold, cross_val_score\n",
    "from sklearn.linear_model import LinearRegression\n",
    "from sklearn.metrics import r2_score, mean_squared_error, mean_absolute_error, mean_squared_log_error, accuracy_score, confusion_matrix\n",
    "from sklearn.ensemble import GradientBoostingRegressor, RandomForestRegressor\n",
    "from scipy.stats import zscore\n",
    "from matplotlib.pyplot import figure\n",
    "\n",
    "from numpy import mean\n",
    "from numpy import absolute\n",
    "from numpy import sqrt\n",
    "\n",
    "import matplotlib.patches as mpatches\n",
    "import seaborn as sns\n",
    "import pandas as pd\n",
    "import numpy as np\n",
    "import operator"
   ]
  },
  {
   "cell_type": "markdown",
   "metadata": {
    "id": "6b3jKgTE-CA_"
   },
   "source": [
    "# Helper Functions"
   ]
  },
  {
   "cell_type": "code",
   "execution_count": 5,
   "metadata": {
    "executionInfo": {
     "elapsed": 119,
     "status": "ok",
     "timestamp": 1646257260476,
     "user": {
      "displayName": "Ziruo Yi",
      "photoUrl": "https://lh3.googleusercontent.com/a-/AOh14GhW2AMS70gbo0eFVbfW3W0d6jTYfiRfVNU-1SKrsQ=s64",
      "userId": "13885267170196786700"
     },
     "user_tz": 360
    },
    "id": "jlRD9lrw-DRm"
   },
   "outputs": [],
   "source": [
    "def sort_dict(mydict, reversed=False):\n",
    "  return sorted(mydict.items(), key=operator.itemgetter(1), reverse=reversed)"
   ]
  },
  {
   "cell_type": "markdown",
   "metadata": {
    "id": "Rl07Ke1pYHqb"
   },
   "source": [
    "# Read Data"
   ]
  },
  {
   "cell_type": "code",
   "execution_count": 6,
   "metadata": {
    "colab": {
     "base_uri": "https://localhost:8080/"
    },
    "executionInfo": {
     "elapsed": 961,
     "status": "ok",
     "timestamp": 1646257262297,
     "user": {
      "displayName": "Ziruo Yi",
      "photoUrl": "https://lh3.googleusercontent.com/a-/AOh14GhW2AMS70gbo0eFVbfW3W0d6jTYfiRfVNU-1SKrsQ=s64",
      "userId": "13885267170196786700"
     },
     "user_tz": 360
    },
    "id": "cL2ITYKD6osW",
    "outputId": "da32879e-461e-4e3f-edca-f99539eb6c9e",
    "scrolled": true
   },
   "outputs": [
    {
     "name": "stdout",
     "output_type": "stream",
     "text": [
      "\n",
      "Companies Details\n",
      "  Symbol                 Name                  Sector\n",
      "0    MMM           3M Company             Industrials\n",
      "1    AOS      A.O. Smith Corp             Industrials\n",
      "2    ABT  Abbott Laboratories             Health Care\n",
      "3   ABBV          AbbVie Inc.             Health Care\n",
      "4    ACN        Accenture plc  Information Technology\n",
      "\n",
      "Companies Stocks\n",
      "         date   open   high    low  close    volume Name\n",
      "0  2013-02-08  15.07  15.12  14.63  14.75   8407500  AAL\n",
      "1  2013-02-11  14.89  15.01  14.26  14.46   8882000  AAL\n",
      "2  2013-02-12  14.45  14.51  14.10  14.27   8126000  AAL\n",
      "3  2013-02-13  14.30  14.94  14.25  14.66  10259500  AAL\n",
      "4  2013-02-14  14.94  14.96  13.16  13.99  31879900  AAL\n"
     ]
    }
   ],
   "source": [
    "# Companies description\n",
    "desc_df = pd.read_csv('stocks_data//constituents.csv')\n",
    "print('\\nCompanies Details')\n",
    "print(desc_df.head())\n",
    "\n",
    "# stocks details\n",
    "stocks_df = pd.read_csv('stocks_data//all_stocks_5yr.csv')#, parse_dates=['date'])\n",
    "print('\\nCompanies Stocks')\n",
    "print(stocks_df.head())"
   ]
  },
  {
   "cell_type": "markdown",
   "metadata": {
    "id": "LUtMystc-rRd",
    "pycharm": {
     "name": "#%% md\n"
    }
   },
   "source": [
    "# Preprocess"
   ]
  },
  {
   "cell_type": "code",
   "execution_count": 7,
   "metadata": {
    "colab": {
     "base_uri": "https://localhost:8080/",
     "height": 206
    },
    "executionInfo": {
     "elapsed": 144,
     "status": "ok",
     "timestamp": 1646257264703,
     "user": {
      "displayName": "Ziruo Yi",
      "photoUrl": "https://lh3.googleusercontent.com/a-/AOh14GhW2AMS70gbo0eFVbfW3W0d6jTYfiRfVNU-1SKrsQ=s64",
      "userId": "13885267170196786700"
     },
     "user_tz": 360
    },
    "id": "QDDceuv6zEb-",
    "outputId": "f7508416-bfaf-4580-ef0c-efe209fa11f4",
    "scrolled": true
   },
   "outputs": [
    {
     "data": {
      "text/html": [
       "<div>\n",
       "<style scoped>\n",
       "    .dataframe tbody tr th:only-of-type {\n",
       "        vertical-align: middle;\n",
       "    }\n",
       "\n",
       "    .dataframe tbody tr th {\n",
       "        vertical-align: top;\n",
       "    }\n",
       "\n",
       "    .dataframe thead th {\n",
       "        text-align: right;\n",
       "    }\n",
       "</style>\n",
       "<table border=\"1\" class=\"dataframe\">\n",
       "  <thead>\n",
       "    <tr style=\"text-align: right;\">\n",
       "      <th></th>\n",
       "      <th>date</th>\n",
       "      <th>open</th>\n",
       "      <th>high</th>\n",
       "      <th>low</th>\n",
       "      <th>close</th>\n",
       "      <th>volume</th>\n",
       "      <th>Name</th>\n",
       "    </tr>\n",
       "  </thead>\n",
       "  <tbody>\n",
       "    <tr>\n",
       "      <th>0</th>\n",
       "      <td>2013-02-08</td>\n",
       "      <td>15.07</td>\n",
       "      <td>15.12</td>\n",
       "      <td>14.63</td>\n",
       "      <td>14.75</td>\n",
       "      <td>8407500</td>\n",
       "      <td>AAL</td>\n",
       "    </tr>\n",
       "    <tr>\n",
       "      <th>1</th>\n",
       "      <td>2013-02-11</td>\n",
       "      <td>14.89</td>\n",
       "      <td>15.01</td>\n",
       "      <td>14.26</td>\n",
       "      <td>14.46</td>\n",
       "      <td>8882000</td>\n",
       "      <td>AAL</td>\n",
       "    </tr>\n",
       "    <tr>\n",
       "      <th>2</th>\n",
       "      <td>2013-02-12</td>\n",
       "      <td>14.45</td>\n",
       "      <td>14.51</td>\n",
       "      <td>14.10</td>\n",
       "      <td>14.27</td>\n",
       "      <td>8126000</td>\n",
       "      <td>AAL</td>\n",
       "    </tr>\n",
       "    <tr>\n",
       "      <th>3</th>\n",
       "      <td>2013-02-13</td>\n",
       "      <td>14.30</td>\n",
       "      <td>14.94</td>\n",
       "      <td>14.25</td>\n",
       "      <td>14.66</td>\n",
       "      <td>10259500</td>\n",
       "      <td>AAL</td>\n",
       "    </tr>\n",
       "    <tr>\n",
       "      <th>4</th>\n",
       "      <td>2013-02-14</td>\n",
       "      <td>14.94</td>\n",
       "      <td>14.96</td>\n",
       "      <td>13.16</td>\n",
       "      <td>13.99</td>\n",
       "      <td>31879900</td>\n",
       "      <td>AAL</td>\n",
       "    </tr>\n",
       "  </tbody>\n",
       "</table>\n",
       "</div>"
      ],
      "text/plain": [
       "         date   open   high    low  close    volume Name\n",
       "0  2013-02-08  15.07  15.12  14.63  14.75   8407500  AAL\n",
       "1  2013-02-11  14.89  15.01  14.26  14.46   8882000  AAL\n",
       "2  2013-02-12  14.45  14.51  14.10  14.27   8126000  AAL\n",
       "3  2013-02-13  14.30  14.94  14.25  14.66  10259500  AAL\n",
       "4  2013-02-14  14.94  14.96  13.16  13.99  31879900  AAL"
      ]
     },
     "execution_count": 7,
     "metadata": {},
     "output_type": "execute_result"
    }
   ],
   "source": [
    "stocks_df.head()"
   ]
  },
  {
   "cell_type": "code",
   "execution_count": 8,
   "metadata": {
    "executionInfo": {
     "elapsed": 124,
     "status": "ok",
     "timestamp": 1646257266544,
     "user": {
      "displayName": "Ziruo Yi",
      "photoUrl": "https://lh3.googleusercontent.com/a-/AOh14GhW2AMS70gbo0eFVbfW3W0d6jTYfiRfVNU-1SKrsQ=s64",
      "userId": "13885267170196786700"
     },
     "user_tz": 360
    },
    "id": "QAuu7VFbzEb_"
   },
   "outputs": [],
   "source": [
    "# dicitonary for companies name and sector\n",
    "companies_names = {symbol:name for symbol, name in desc_df[['Symbol', 'Name']].values}\n",
    "companies_sector = {symbol:sector for symbol, sector in desc_df[['Symbol', 'Sector']].values}\n",
    "\n",
    "# get all companies symbols\n",
    "symbols = stocks_df['Name'].values\n",
    "dates = set(stocks_df['date'].values)\n",
    "dates = sorted(dates)\n",
    "\n",
    "# store each individual date and all its stocks\n",
    "dates_dictionary = {date:{} for date in dates}"
   ]
  },
  {
   "cell_type": "code",
   "execution_count": 9,
   "metadata": {
    "colab": {
     "base_uri": "https://localhost:8080/"
    },
    "executionInfo": {
     "elapsed": 177,
     "status": "ok",
     "timestamp": 1646257268129,
     "user": {
      "displayName": "Ziruo Yi",
      "photoUrl": "https://lh3.googleusercontent.com/a-/AOh14GhW2AMS70gbo0eFVbfW3W0d6jTYfiRfVNU-1SKrsQ=s64",
      "userId": "13885267170196786700"
     },
     "user_tz": 360
    },
    "id": "2MXCHuRMzEcA",
    "outputId": "adf88e8e-8aca-43ac-c559-53c5a65a264e"
   },
   "outputs": [
    {
     "data": {
      "text/plain": [
       "{'MMM': 'Industrials',\n",
       " 'AOS': 'Industrials',\n",
       " 'ABT': 'Health Care',\n",
       " 'ABBV': 'Health Care',\n",
       " 'ACN': 'Information Technology',\n",
       " 'ATVI': 'Information Technology',\n",
       " 'AYI': 'Industrials',\n",
       " 'ADBE': 'Information Technology',\n",
       " 'AAP': 'Consumer Discretionary',\n",
       " 'AMD': 'Information Technology',\n",
       " 'AES': 'Utilities',\n",
       " 'AET': 'Health Care',\n",
       " 'AMG': 'Financials',\n",
       " 'AFL': 'Financials',\n",
       " 'A': 'Health Care',\n",
       " 'APD': 'Materials',\n",
       " 'AKAM': 'Information Technology',\n",
       " 'ALK': 'Industrials',\n",
       " 'ALB': 'Materials',\n",
       " 'ARE': 'Real Estate',\n",
       " 'ALXN': 'Health Care',\n",
       " 'ALGN': 'Health Care',\n",
       " 'ALLE': 'Industrials',\n",
       " 'AGN': 'Health Care',\n",
       " 'ADS': 'Information Technology',\n",
       " 'LNT': 'Utilities',\n",
       " 'ALL': 'Financials',\n",
       " 'GOOGL': 'Information Technology',\n",
       " 'GOOG': 'Information Technology',\n",
       " 'MO': 'Consumer Staples',\n",
       " 'AMZN': 'Consumer Discretionary',\n",
       " 'AEE': 'Utilities',\n",
       " 'AAL': 'Industrials',\n",
       " 'AEP': 'Utilities',\n",
       " 'AXP': 'Financials',\n",
       " 'AIG': 'Financials',\n",
       " 'AMT': 'Real Estate',\n",
       " 'AWK': 'Utilities',\n",
       " 'AMP': 'Financials',\n",
       " 'ABC': 'Health Care',\n",
       " 'AME': 'Industrials',\n",
       " 'AMGN': 'Health Care',\n",
       " 'APH': 'Information Technology',\n",
       " 'APC': 'Energy',\n",
       " 'ADI': 'Information Technology',\n",
       " 'ANDV': 'Energy',\n",
       " 'ANSS': 'Information Technology',\n",
       " 'ANTM': 'Health Care',\n",
       " 'AON': 'Financials',\n",
       " 'APA': 'Energy',\n",
       " 'AIV': 'Real Estate',\n",
       " 'AAPL': 'Information Technology',\n",
       " 'AMAT': 'Information Technology',\n",
       " 'APTV': 'Consumer Discretionary',\n",
       " 'ADM': 'Consumer Staples',\n",
       " 'ARNC': 'Industrials',\n",
       " 'AJG': 'Financials',\n",
       " 'AIZ': 'Financials',\n",
       " 'T': 'Telecommunication Services',\n",
       " 'ADSK': 'Information Technology',\n",
       " 'ADP': 'Information Technology',\n",
       " 'AZO': 'Consumer Discretionary',\n",
       " 'AVB': 'Real Estate',\n",
       " 'AVY': 'Materials',\n",
       " 'BHGE': 'Energy',\n",
       " 'BLL': 'Materials',\n",
       " 'BAC': 'Financials',\n",
       " 'BAX': 'Health Care',\n",
       " 'BBT': 'Financials',\n",
       " 'BDX': 'Health Care',\n",
       " 'BRK.B': 'Financials',\n",
       " 'BBY': 'Consumer Discretionary',\n",
       " 'BIIB': 'Health Care',\n",
       " 'BLK': 'Financials',\n",
       " 'HRB': 'Financials',\n",
       " 'BA': 'Industrials',\n",
       " 'BWA': 'Consumer Discretionary',\n",
       " 'BXP': 'Real Estate',\n",
       " 'BSX': 'Health Care',\n",
       " 'BHF': 'Financials',\n",
       " 'BMY': 'Health Care',\n",
       " 'AVGO': 'Information Technology',\n",
       " 'BF.B': 'Consumer Staples',\n",
       " 'CHRW': 'Industrials',\n",
       " 'CA': 'Information Technology',\n",
       " 'COG': 'Energy',\n",
       " 'CDNS': 'Information Technology',\n",
       " 'CPB': 'Consumer Staples',\n",
       " 'COF': 'Financials',\n",
       " 'CAH': 'Health Care',\n",
       " 'KMX': 'Consumer Discretionary',\n",
       " 'CCL': 'Consumer Discretionary',\n",
       " 'CAT': 'Industrials',\n",
       " 'CBOE': 'Financials',\n",
       " 'CBG': 'Real Estate',\n",
       " 'CBS': 'Consumer Discretionary',\n",
       " 'CELG': 'Health Care',\n",
       " 'CNC': 'Health Care',\n",
       " 'CNP': 'Utilities',\n",
       " 'CTL': 'Telecommunication Services',\n",
       " 'CERN': 'Health Care',\n",
       " 'CF': 'Materials',\n",
       " 'SCHW': 'Financials',\n",
       " 'CHTR': 'Consumer Discretionary',\n",
       " 'CHK': 'Energy',\n",
       " 'CVX': 'Energy',\n",
       " 'CMG': 'Consumer Discretionary',\n",
       " 'CB': 'Financials',\n",
       " 'CHD': 'Consumer Staples',\n",
       " 'CI': 'Health Care',\n",
       " 'XEC': 'Energy',\n",
       " 'CINF': 'Financials',\n",
       " 'CTAS': 'Industrials',\n",
       " 'CSCO': 'Information Technology',\n",
       " 'C': 'Financials',\n",
       " 'CFG': 'Financials',\n",
       " 'CTXS': 'Information Technology',\n",
       " 'CME': 'Financials',\n",
       " 'CMS': 'Utilities',\n",
       " 'KO': 'Consumer Staples',\n",
       " 'CTSH': 'Information Technology',\n",
       " 'CL': 'Consumer Staples',\n",
       " 'CMCSA': 'Consumer Discretionary',\n",
       " 'CMA': 'Financials',\n",
       " 'CAG': 'Consumer Staples',\n",
       " 'CXO': 'Energy',\n",
       " 'COP': 'Energy',\n",
       " 'ED': 'Utilities',\n",
       " 'STZ': 'Consumer Staples',\n",
       " 'GLW': 'Information Technology',\n",
       " 'COST': 'Consumer Staples',\n",
       " 'COTY': 'Consumer Staples',\n",
       " 'CCI': 'Real Estate',\n",
       " 'CSRA': 'Information Technology',\n",
       " 'CSX': 'Industrials',\n",
       " 'CMI': 'Industrials',\n",
       " 'CVS': 'Consumer Staples',\n",
       " 'DHI': 'Consumer Discretionary',\n",
       " 'DHR': 'Health Care',\n",
       " 'DRI': 'Consumer Discretionary',\n",
       " 'DVA': 'Health Care',\n",
       " 'DE': 'Industrials',\n",
       " 'DAL': 'Industrials',\n",
       " 'XRAY': 'Health Care',\n",
       " 'DVN': 'Energy',\n",
       " 'DLR': 'Real Estate',\n",
       " 'DFS': 'Financials',\n",
       " 'DISCA': 'Consumer Discretionary',\n",
       " 'DISCK': 'Consumer Discretionary',\n",
       " 'DISH': 'Consumer Discretionary',\n",
       " 'DG': 'Consumer Discretionary',\n",
       " 'DLTR': 'Consumer Discretionary',\n",
       " 'D': 'Utilities',\n",
       " 'DOV': 'Industrials',\n",
       " 'DWDP': 'Materials',\n",
       " 'DPS': 'Consumer Staples',\n",
       " 'DTE': 'Utilities',\n",
       " 'DUK': 'Utilities',\n",
       " 'DRE': 'Real Estate',\n",
       " 'DXC': 'Information Technology',\n",
       " 'ETFC': 'Financials',\n",
       " 'EMN': 'Materials',\n",
       " 'ETN': 'Industrials',\n",
       " 'EBAY': 'Information Technology',\n",
       " 'ECL': 'Materials',\n",
       " 'EIX': 'Utilities',\n",
       " 'EW': 'Health Care',\n",
       " 'EA': 'Information Technology',\n",
       " 'EMR': 'Industrials',\n",
       " 'ETR': 'Utilities',\n",
       " 'EVHC': 'Health Care',\n",
       " 'EOG': 'Energy',\n",
       " 'EQT': 'Energy',\n",
       " 'EFX': 'Industrials',\n",
       " 'EQIX': 'Real Estate',\n",
       " 'EQR': 'Real Estate',\n",
       " 'ESS': 'Real Estate',\n",
       " 'EL': 'Consumer Staples',\n",
       " 'RE': 'Financials',\n",
       " 'ES': 'Utilities',\n",
       " 'EXC': 'Utilities',\n",
       " 'EXPE': 'Consumer Discretionary',\n",
       " 'EXPD': 'Industrials',\n",
       " 'ESRX': 'Health Care',\n",
       " 'EXR': 'Real Estate',\n",
       " 'XOM': 'Energy',\n",
       " 'FFIV': 'Information Technology',\n",
       " 'FB': 'Information Technology',\n",
       " 'FAST': 'Industrials',\n",
       " 'FRT': 'Real Estate',\n",
       " 'FDX': 'Industrials',\n",
       " 'FIS': 'Information Technology',\n",
       " 'FITB': 'Financials',\n",
       " 'FE': 'Utilities',\n",
       " 'FISV': 'Information Technology',\n",
       " 'FLIR': 'Information Technology',\n",
       " 'FLS': 'Industrials',\n",
       " 'FLR': 'Industrials',\n",
       " 'FMC': 'Materials',\n",
       " 'FL': 'Consumer Discretionary',\n",
       " 'F': 'Consumer Discretionary',\n",
       " 'FTV': 'Industrials',\n",
       " 'FBHS': 'Industrials',\n",
       " 'BEN': 'Financials',\n",
       " 'FCX': 'Materials',\n",
       " 'GPS': 'Consumer Discretionary',\n",
       " 'GRMN': 'Consumer Discretionary',\n",
       " 'IT': 'Information Technology',\n",
       " 'GD': 'Industrials',\n",
       " 'GE': 'Industrials',\n",
       " 'GGP': 'Real Estate',\n",
       " 'GIS': 'Consumer Staples',\n",
       " 'GM': 'Consumer Discretionary',\n",
       " 'GPC': 'Consumer Discretionary',\n",
       " 'GILD': 'Health Care',\n",
       " 'GPN': 'Information Technology',\n",
       " 'GS': 'Financials',\n",
       " 'GT': 'Consumer Discretionary',\n",
       " 'GWW': 'Industrials',\n",
       " 'HAL': 'Energy',\n",
       " 'HBI': 'Consumer Discretionary',\n",
       " 'HOG': 'Consumer Discretionary',\n",
       " 'HRS': 'Information Technology',\n",
       " 'HIG': 'Financials',\n",
       " 'HAS': 'Consumer Discretionary',\n",
       " 'HCA': 'Health Care',\n",
       " 'HCP': 'Real Estate',\n",
       " 'HP': 'Energy',\n",
       " 'HSIC': 'Health Care',\n",
       " 'HES': 'Energy',\n",
       " 'HPE': 'Information Technology',\n",
       " 'HLT': 'Consumer Discretionary',\n",
       " 'HOLX': 'Health Care',\n",
       " 'HD': 'Consumer Discretionary',\n",
       " 'HON': 'Industrials',\n",
       " 'HRL': 'Consumer Staples',\n",
       " 'HST': 'Real Estate',\n",
       " 'HPQ': 'Information Technology',\n",
       " 'HUM': 'Health Care',\n",
       " 'HBAN': 'Financials',\n",
       " 'HII': 'Industrials',\n",
       " 'IDXX': 'Health Care',\n",
       " 'INFO': 'Industrials',\n",
       " 'ITW': 'Industrials',\n",
       " 'ILMN': 'Health Care',\n",
       " 'INCY': 'Health Care',\n",
       " 'IR': 'Industrials',\n",
       " 'INTC': 'Information Technology',\n",
       " 'ICE': 'Financials',\n",
       " 'IBM': 'Information Technology',\n",
       " 'IP': 'Materials',\n",
       " 'IPG': 'Consumer Discretionary',\n",
       " 'IFF': 'Materials',\n",
       " 'INTU': 'Information Technology',\n",
       " 'ISRG': 'Health Care',\n",
       " 'IVZ': 'Financials',\n",
       " 'IQV': 'Health Care',\n",
       " 'IRM': 'Real Estate',\n",
       " 'JBHT': 'Industrials',\n",
       " 'JEC': 'Industrials',\n",
       " 'SJM': 'Consumer Staples',\n",
       " 'JNJ': 'Health Care',\n",
       " 'JCI': 'Industrials',\n",
       " 'JPM': 'Financials',\n",
       " 'JNPR': 'Information Technology',\n",
       " 'KSU': 'Industrials',\n",
       " 'K': 'Consumer Staples',\n",
       " 'KEY': 'Financials',\n",
       " 'KMB': 'Consumer Staples',\n",
       " 'KIM': 'Real Estate',\n",
       " 'KMI': 'Energy',\n",
       " 'KLAC': 'Information Technology',\n",
       " 'KSS': 'Consumer Discretionary',\n",
       " 'KHC': 'Consumer Staples',\n",
       " 'KR': 'Consumer Staples',\n",
       " 'LB': 'Consumer Discretionary',\n",
       " 'LLL': 'Industrials',\n",
       " 'LH': 'Health Care',\n",
       " 'LRCX': 'Information Technology',\n",
       " 'LEG': 'Consumer Discretionary',\n",
       " 'LEN': 'Consumer Discretionary',\n",
       " 'LUK': 'Financials',\n",
       " 'LLY': 'Health Care',\n",
       " 'LNC': 'Financials',\n",
       " 'LKQ': 'Consumer Discretionary',\n",
       " 'LMT': 'Industrials',\n",
       " 'L': 'Financials',\n",
       " 'LOW': 'Consumer Discretionary',\n",
       " 'LYB': 'Materials',\n",
       " 'MTB': 'Financials',\n",
       " 'MAC': 'Real Estate',\n",
       " 'M': 'Consumer Discretionary',\n",
       " 'MRO': 'Energy',\n",
       " 'MPC': 'Energy',\n",
       " 'MAR': 'Consumer Discretionary',\n",
       " 'MMC': 'Financials',\n",
       " 'MLM': 'Materials',\n",
       " 'MAS': 'Industrials',\n",
       " 'MA': 'Information Technology',\n",
       " 'MAT': 'Consumer Discretionary',\n",
       " 'MKC': 'Consumer Staples',\n",
       " 'MCD': 'Consumer Discretionary',\n",
       " 'MCK': 'Health Care',\n",
       " 'MDT': 'Health Care',\n",
       " 'MRK': 'Health Care',\n",
       " 'MET': 'Financials',\n",
       " 'MTD': 'Health Care',\n",
       " 'MGM': 'Consumer Discretionary',\n",
       " 'KORS': 'Consumer Discretionary',\n",
       " 'MCHP': 'Information Technology',\n",
       " 'MU': 'Information Technology',\n",
       " 'MSFT': 'Information Technology',\n",
       " 'MAA': 'Real Estate',\n",
       " 'MHK': 'Consumer Discretionary',\n",
       " 'TAP': 'Consumer Staples',\n",
       " 'MDLZ': 'Consumer Staples',\n",
       " 'MON': 'Materials',\n",
       " 'MNST': 'Consumer Staples',\n",
       " 'MCO': 'Financials',\n",
       " 'MS': 'Financials',\n",
       " 'MSI': 'Information Technology',\n",
       " 'MYL': 'Health Care',\n",
       " 'NDAQ': 'Financials',\n",
       " 'NOV': 'Energy',\n",
       " 'NAVI': 'Financials',\n",
       " 'NTAP': 'Information Technology',\n",
       " 'NFLX': 'Information Technology',\n",
       " 'NWL': 'Consumer Discretionary',\n",
       " 'NFX': 'Energy',\n",
       " 'NEM': 'Materials',\n",
       " 'NWSA': 'Consumer Discretionary',\n",
       " 'NWS': 'Consumer Discretionary',\n",
       " 'NEE': 'Utilities',\n",
       " 'NLSN': 'Industrials',\n",
       " 'NKE': 'Consumer Discretionary',\n",
       " 'NI': 'Utilities',\n",
       " 'NBL': 'Energy',\n",
       " 'JWN': 'Consumer Discretionary',\n",
       " 'NSC': 'Industrials',\n",
       " 'NTRS': 'Financials',\n",
       " 'NOC': 'Industrials',\n",
       " 'NCLH': 'Consumer Discretionary',\n",
       " 'NRG': 'Utilities',\n",
       " 'NUE': 'Materials',\n",
       " 'NVDA': 'Information Technology',\n",
       " 'ORLY': 'Consumer Discretionary',\n",
       " 'OXY': 'Energy',\n",
       " 'OMC': 'Consumer Discretionary',\n",
       " 'OKE': 'Energy',\n",
       " 'ORCL': 'Information Technology',\n",
       " 'PCAR': 'Industrials',\n",
       " 'PKG': 'Materials',\n",
       " 'PH': 'Industrials',\n",
       " 'PDCO': 'Health Care',\n",
       " 'PAYX': 'Information Technology',\n",
       " 'PYPL': 'Information Technology',\n",
       " 'PNR': 'Industrials',\n",
       " 'PBCT': 'Financials',\n",
       " 'PEP': 'Consumer Staples',\n",
       " 'PKI': 'Health Care',\n",
       " 'PRGO': 'Health Care',\n",
       " 'PFE': 'Health Care',\n",
       " 'PCG': 'Utilities',\n",
       " 'PM': 'Consumer Staples',\n",
       " 'PSX': 'Energy',\n",
       " 'PNW': 'Utilities',\n",
       " 'PXD': 'Energy',\n",
       " 'PNC': 'Financials',\n",
       " 'RL': 'Consumer Discretionary',\n",
       " 'PPG': 'Materials',\n",
       " 'PPL': 'Utilities',\n",
       " 'PX': 'Materials',\n",
       " 'PCLN': 'Consumer Discretionary',\n",
       " 'PFG': 'Financials',\n",
       " 'PG': 'Consumer Staples',\n",
       " 'PGR': 'Financials',\n",
       " 'PLD': 'Real Estate',\n",
       " 'PRU': 'Financials',\n",
       " 'PEG': 'Utilities',\n",
       " 'PSA': 'Real Estate',\n",
       " 'PHM': 'Consumer Discretionary',\n",
       " 'PVH': 'Consumer Discretionary',\n",
       " 'QRVO': 'Information Technology',\n",
       " 'QCOM': 'Information Technology',\n",
       " 'PWR': 'Industrials',\n",
       " 'DGX': 'Health Care',\n",
       " 'RRC': 'Energy',\n",
       " 'RJF': 'Financials',\n",
       " 'RTN': 'Industrials',\n",
       " 'O': 'Real Estate',\n",
       " 'RHT': 'Information Technology',\n",
       " 'REG': 'Real Estate',\n",
       " 'REGN': 'Health Care',\n",
       " 'RF': 'Financials',\n",
       " 'RSG': 'Industrials',\n",
       " 'RMD': 'Health Care',\n",
       " 'RHI': 'Industrials',\n",
       " 'ROK': 'Industrials',\n",
       " 'COL': 'Industrials',\n",
       " 'ROP': 'Industrials',\n",
       " 'ROST': 'Consumer Discretionary',\n",
       " 'RCL': 'Consumer Discretionary',\n",
       " 'SPGI': 'Financials',\n",
       " 'CRM': 'Information Technology',\n",
       " 'SBAC': 'Real Estate',\n",
       " 'SCG': 'Utilities',\n",
       " 'SLB': 'Energy',\n",
       " 'SNI': 'Consumer Discretionary',\n",
       " 'STX': 'Information Technology',\n",
       " 'SEE': 'Materials',\n",
       " 'SRE': 'Utilities',\n",
       " 'SHW': 'Materials',\n",
       " 'SIG': 'Consumer Discretionary',\n",
       " 'SPG': 'Real Estate',\n",
       " 'SWKS': 'Information Technology',\n",
       " 'SLG': 'Real Estate',\n",
       " 'SNA': 'Consumer Discretionary',\n",
       " 'SO': 'Utilities',\n",
       " 'LUV': 'Industrials',\n",
       " 'SWK': 'Consumer Discretionary',\n",
       " 'SBUX': 'Consumer Discretionary',\n",
       " 'STT': 'Financials',\n",
       " 'SRCL': 'Industrials',\n",
       " 'SYK': 'Health Care',\n",
       " 'STI': 'Financials',\n",
       " 'SYMC': 'Information Technology',\n",
       " 'SYF': 'Financials',\n",
       " 'SNPS': 'Information Technology',\n",
       " 'SYY': 'Consumer Staples',\n",
       " 'TROW': 'Financials',\n",
       " 'TPR': 'Consumer Discretionary',\n",
       " 'TGT': 'Consumer Discretionary',\n",
       " 'TEL': 'Information Technology',\n",
       " 'FTI': 'Energy',\n",
       " 'TXN': 'Information Technology',\n",
       " 'TXT': 'Industrials',\n",
       " 'BK': 'Financials',\n",
       " 'CLX': 'Consumer Staples',\n",
       " 'COO': 'Health Care',\n",
       " 'HSY': 'Consumer Staples',\n",
       " 'MOS': 'Materials',\n",
       " 'TRV': 'Financials',\n",
       " 'DIS': 'Consumer Discretionary',\n",
       " 'TMO': 'Health Care',\n",
       " 'TIF': 'Consumer Discretionary',\n",
       " 'TWX': 'Consumer Discretionary',\n",
       " 'TJX': 'Consumer Discretionary',\n",
       " 'TMK': 'Financials',\n",
       " 'TSS': 'Information Technology',\n",
       " 'TSCO': 'Consumer Discretionary',\n",
       " 'TDG': 'Industrials',\n",
       " 'TRIP': 'Consumer Discretionary',\n",
       " 'FOXA': 'Consumer Discretionary',\n",
       " 'FOX': 'Consumer Discretionary',\n",
       " 'TSN': 'Consumer Staples',\n",
       " 'USB': 'Financials',\n",
       " 'UDR': 'Real Estate',\n",
       " 'ULTA': 'Consumer Discretionary',\n",
       " 'UAA': 'Consumer Discretionary',\n",
       " 'UA': 'Consumer Discretionary',\n",
       " 'UNP': 'Industrials',\n",
       " 'UAL': 'Industrials',\n",
       " 'UNH': 'Health Care',\n",
       " 'UPS': 'Industrials',\n",
       " 'URI': 'Industrials',\n",
       " 'UTX': 'Industrials',\n",
       " 'UHS': 'Health Care',\n",
       " 'UNM': 'Financials',\n",
       " 'VFC': 'Consumer Discretionary',\n",
       " 'VLO': 'Energy',\n",
       " 'VAR': 'Health Care',\n",
       " 'VTR': 'Real Estate',\n",
       " 'VRSN': 'Information Technology',\n",
       " 'VRSK': 'Industrials',\n",
       " 'VZ': 'Telecommunication Services',\n",
       " 'VRTX': 'Health Care',\n",
       " 'VIAB': 'Consumer Discretionary',\n",
       " 'V': 'Information Technology',\n",
       " 'VNO': 'Real Estate',\n",
       " 'VMC': 'Materials',\n",
       " 'WMT': 'Consumer Staples',\n",
       " 'WBA': 'Consumer Staples',\n",
       " 'WM': 'Industrials',\n",
       " 'WAT': 'Health Care',\n",
       " 'WEC': 'Utilities',\n",
       " 'WFC': 'Financials',\n",
       " 'HCN': 'Real Estate',\n",
       " 'WDC': 'Information Technology',\n",
       " 'WU': 'Information Technology',\n",
       " 'WRK': 'Materials',\n",
       " 'WY': 'Real Estate',\n",
       " 'WHR': 'Consumer Discretionary',\n",
       " 'WMB': 'Energy',\n",
       " 'WLTW': 'Financials',\n",
       " 'WYN': 'Consumer Discretionary',\n",
       " 'WYNN': 'Consumer Discretionary',\n",
       " 'XEL': 'Utilities',\n",
       " 'XRX': 'Information Technology',\n",
       " 'XLNX': 'Information Technology',\n",
       " 'XL': 'Financials',\n",
       " 'XYL': 'Industrials',\n",
       " 'YUM': 'Consumer Discretionary',\n",
       " 'ZBH': 'Health Care',\n",
       " 'ZION': 'Financials',\n",
       " 'ZTS': 'Health Care'}"
      ]
     },
     "execution_count": 9,
     "metadata": {},
     "output_type": "execute_result"
    }
   ],
   "source": [
    "companies_sector"
   ]
  },
  {
   "cell_type": "markdown",
   "metadata": {
    "id": "w10zJhiK_dyn",
    "pycharm": {
     "name": "#%% md\n"
    }
   },
   "source": [
    "# Data for Word Embeddings\n",
    "\n",
    "For each date in out dataset we rearrange each company in ascending order based on the **change in price**.\n",
    "\n",
    "Formula for **change in price** [source](https://pocketsense.com/calculate-market-price-change-common-stock-4829.html):\n",
    "* (closing_price - opening_price) / opening_price\n",
    "\n",
    "We can change the formula to use highest price and lowest price. This is something we will test out."
   ]
  },
  {
   "cell_type": "code",
   "execution_count": 10,
   "metadata": {
    "colab": {
     "base_uri": "https://localhost:8080/"
    },
    "executionInfo": {
     "elapsed": 2004,
     "status": "ok",
     "timestamp": 1646257277963,
     "user": {
      "displayName": "Ziruo Yi",
      "photoUrl": "https://lh3.googleusercontent.com/a-/AOh14GhW2AMS70gbo0eFVbfW3W0d6jTYfiRfVNU-1SKrsQ=s64",
      "userId": "13885267170196786700"
     },
     "user_tz": 360
    },
    "id": "p4ybIa6yW7kP",
    "outputId": "4b98e7ca-eb15-420c-9251-5ef6cb2b49c2",
    "pycharm": {
     "name": "#%%\n"
    },
    "scrolled": true
   },
   "outputs": [
    {
     "name": "stdout",
     "output_type": "stream",
     "text": [
      "['MCO', 'MNST', 'SPGI', 'JNPR', 'AAL', 'BBY', 'INTU', 'SRCL', 'SCHW', 'MCHP', 'FLR', 'CL', 'ILMN', 'PVH', 'FB', 'M', 'IRM', 'VAR', 'DAL', 'BA', 'IT', 'BAC', 'EXC', 'ETR', 'XRX', 'O', 'LEN', 'LB', 'KLAC', 'PWR', 'RJF', 'HUM', 'C', 'VFC', 'EL', 'GLW', 'DHI', 'NEM', 'AEE', 'RMD', 'PG', 'RHT', 'RHI', 'MAS', 'EFX', 'DPS', 'IVZ', 'KSU', 'AES', 'NFLX', 'AXP', 'SIG', 'MU', 'TDG', 'RF', 'HIG', 'FDX', 'VZ', 'IDXX', 'PNC', 'T', 'LUK', 'ABBV', 'TRV', 'DVA', 'KMI', 'CTSH', 'CRM', 'FCX', 'ADM', 'PFE', 'CTAS', 'AMG', 'EQT', 'CCL', 'DGX', 'AKAM', 'NEE', 'GT', 'PEP', 'GPS', 'HCA', 'KO', 'NFX', 'COF', 'PDCO', 'BF.B', 'LEG', 'MET', 'SWK', 'NLSN', 'HRS', 'MDLZ', 'ARE', 'PEG', 'HP', 'CMS', 'ICE', 'DRI', 'MYL', 'SO', 'KMB', 'AJG', 'GRMN', 'DFS', 'BBT', 'CLX', 'PAYX', 'AFL', 'ETN', 'MKC', 'CSCO', 'NRG', 'ANSS', 'UAA', 'NI', 'KORS', 'K', 'TIF', 'UTX', 'BRK.B', 'DLR', 'F', 'GE', 'NVDA', 'NWL', 'EMR', 'A', 'ES', 'AIZ', 'PPL', 'NKE', 'JEC', 'AEP', 'DTE', 'SEE', 'ED', 'ABT', 'WY', 'HSIC', 'WU', 'PCG', 'RTN', 'QCOM', 'AIG', 'FFIV', 'COP', 'KSS', 'GM', 'DISCK', 'AVGO', 'NTRS', 'GD', 'XOM', 'HSY', 'ADS', 'SJM', 'MMC', 'OKE', 'LLY', 'PLD', 'CMCSA', 'CVS', 'MSI', 'TSS', 'DUK', 'WEC', 'ULTA', 'ETFC', 'FMC', 'PCAR', 'MAC', 'TMK', 'BLL', 'GWW', 'ALL', 'MO', 'CBOE', 'AAPL', 'EIX', 'AMZN', 'TSN', 'LRCX', 'STT', 'LNT', 'SBAC', 'AGN', 'NSC', 'VIAB', 'ARNC', 'FE', 'OXY', 'EXPE', 'NDAQ', 'USB', 'CINF', 'IPG', 'WM', 'SWKS', 'V', 'PHM', 'ADSK', 'D', 'SNPS', 'TAP', 'BEN', 'L', 'MOS', 'EBAY', 'SYY', 'RE', 'CNP', 'MRK', 'XYL', 'ROK', 'WHR', 'MMM', 'PBCT', 'HOG', 'XEL', 'DOV', 'MLM', 'BDX', 'CF', 'LUV', 'CHK', 'MON', 'EXPD', 'VRTX', 'CME', 'GIS', 'ADP', 'HCN', 'HON', 'AVY', 'BK', 'FITB', 'TROW', 'CI', 'APC', 'SHW', 'AMD', 'WBA', 'CAG', 'MAA', 'WMT', 'TJX', 'COST', 'ORCL', 'LNC', 'ACN', 'JNJ', 'AMP', 'SCG', 'TRIP', 'SNI', 'ROST', 'WMB', 'NTAP', 'ANTM', 'LH', 'VRSK', 'ZION', 'FL', 'CTL', 'RL', 'FISV', 'INTC', 'CHTR', 'WYN', 'AWK', 'XRAY', 'TPR', 'TGT', 'KR', 'GGP', 'GPC', 'MCD', 'CMA', 'DIS', 'COL', 'MTB', 'PH', 'ESS', 'BIIB', 'LLL', 'GS', 'IFF', 'WFC', 'EXR', 'UDR', 'MDT', 'KMX', 'HCP', 'MCK', 'CA', 'UNP', 'AME', 'BAX', 'ROP', 'ALXN', 'AOS', 'CHRW', 'CVX', 'APA', 'JPM', 'CAH', 'BLK', 'PPG', 'PNW', 'LMT', 'VRSN', 'CCI', 'LOW', 'GOOGL', 'REGN', 'EQR', 'HD', 'XEC', 'COG', 'HBAN', 'HRL', 'SRE', 'AAP', 'NOC', 'STZ', 'MSFT', 'IP', 'PRU', 'KEY', 'RRC', 'XL', 'PKI', 'FRT', 'UPS', 'CAT', 'BSX', 'TWX', 'JCI', 'ABC', 'DE', 'REG', 'MTD', 'GPN', 'RSG', 'NUE', 'BXP', 'SLG', 'CMI', 'PFG', 'ESRX', 'IBM', 'LYB', 'PM', 'ORLY', 'TMO', 'PNR', 'PX', 'APD', 'DISCA', 'AON', 'PKG', 'SYK', 'SBUX', 'JBHT', 'HAL', 'VTR', 'PSX', 'HBI', 'EW', 'CBS', 'PGR', 'TSCO', 'UNH', 'ALGN', 'HES', 'VMC', 'RCL', 'MS', 'AVB', 'PCLN', 'FBHS', 'SPG', 'SLB', 'DRE', 'TEL', 'NOV', 'URI', 'MAR', 'DHR', 'FIS', 'EMN', 'ZBH', 'DG', 'NCLH', 'FTI', 'CSX', 'MA', 'ISRG', 'DISH', 'VNO', 'WAT', 'NBL', 'VLO', 'COO', 'PSA', 'MRO', 'PRGO', 'CMG', 'AYI', 'FAST', 'ECL', 'CB', 'HII', 'CELG', 'STI', 'APH', 'ITW', 'CBG', 'TXT', 'AMGN', 'MHK', 'HRB', 'XLNX', 'UNM', 'ALK', 'ALB', 'CDNS', 'GILD', 'HST', 'BMY', 'CTXS', 'AZO', 'JWN', 'AMAT', 'FLS', 'CERN', 'CPB', 'HOLX', 'KIM', 'OMC', 'SYMC', 'WDC', 'AET', 'DVN', 'UHS', 'UAL', 'ATVI', 'CNC', 'AMT', 'CHD', 'INCY', 'STX', 'MAT', 'EA', 'FLIR', 'BWA', 'TXN', 'LKQ', 'ADBE', 'ADI', 'EQIX', 'ZTS', 'MPC', 'EOG', 'WYNN', 'IR', 'YUM', 'HAS', 'CXO', 'SNA', 'ANDV', 'PXD', 'MGM', 'DLTR', 'AIV']\n"
     ]
    }
   ],
   "source": [
    "# calculate price change for each stock and sort them in each day\n",
    "for date, symbol, op, cl, in stocks_df[['date', 'Name', 'open', 'close']].values:\n",
    "  # CHANGE IN PRICE: (closing_price - opening_price) / opening_price\n",
    "  dates_dictionary[date][symbol] = (cl - op)/op\n",
    "# sort each day reverse order\n",
    "dates_dictionary = {date:sort_dict(dates_dictionary[date]) for date in dates}\n",
    "\n",
    "stocks_w2v_data = [[value[0] for value in dates_dictionary[date]] for date in dates]\n",
    "\n",
    "# print sample\n",
    "print(stocks_w2v_data[0])"
   ]
  },
  {
   "cell_type": "code",
   "execution_count": 11,
   "metadata": {
    "colab": {
     "base_uri": "https://localhost:8080/"
    },
    "executionInfo": {
     "elapsed": 4442,
     "status": "ok",
     "timestamp": 1646257455091,
     "user": {
      "displayName": "Ziruo Yi",
      "photoUrl": "https://lh3.googleusercontent.com/a-/AOh14GhW2AMS70gbo0eFVbfW3W0d6jTYfiRfVNU-1SKrsQ=s64",
      "userId": "13885267170196786700"
     },
     "user_tz": 360
    },
    "id": "wt2orldLzEcE",
    "outputId": "77ee1ac2-fcf2-4ff9-cb30-7094d21974e5"
   },
   "outputs": [],
   "source": [
    "# recreate model with 10 dimensions(this is the model that will be used for the rest of the code)\n",
    "model = Word2Vec(stocks_w2v_data, min_count=1, vector_size=12,  window=50, negative=10)\n",
    "words = list(model.wv.key_to_index.keys())\n",
    "X = model.wv.vectors\n",
    "Y = list()\n",
    "for word in words:\n",
    "    Y.append(companies_sector[word])\n",
    "\n"
   ]
  },
  {
   "cell_type": "code",
   "execution_count": 12,
   "metadata": {},
   "outputs": [
    {
     "name": "stderr",
     "output_type": "stream",
     "text": [
      "c:\\users\\jerry\\envs\\nlp\\lib\\site-packages\\sklearn\\manifold\\_t_sne.py:790: FutureWarning: The default learning rate in TSNE will change from 200.0 to 'auto' in 1.2.\n",
      "  warnings.warn(\n",
      "c:\\users\\jerry\\envs\\nlp\\lib\\site-packages\\sklearn\\manifold\\_t_sne.py:982: FutureWarning: The PCA initialization in TSNE will change to have the standard deviation of PC1 equal to 1e-4 in 1.2. This will ensure better convergence.\n",
      "  warnings.warn(\n"
     ]
    }
   ],
   "source": [
    "from sklearn.manifold import TSNE\n",
    "tsne_wp_3d = TSNE(perplexity=30, n_components=3, init='pca', n_iter=1500)\n",
    "embeddings_wp_3d = tsne_wp_3d.fit_transform(X)"
   ]
  },
  {
   "cell_type": "code",
   "execution_count": 188,
   "metadata": {},
   "outputs": [],
   "source": [
    "# def plot_embedding(data):\n",
    "#     x_min, x_max = np.min(data, 0), np.max(data, 0)\n",
    "#     data = (data - x_min) / (x_max - x_min)\n",
    "#     return data"
   ]
  },
  {
   "cell_type": "code",
   "execution_count": 190,
   "metadata": {},
   "outputs": [],
   "source": [
    "# embeddings_wp_3d = plot_embedding(embeddings_wp_3d)"
   ]
  },
  {
   "cell_type": "code",
   "execution_count": 24,
   "metadata": {
    "scrolled": true
   },
   "outputs": [
    {
     "name": "stderr",
     "output_type": "stream",
     "text": [
      "C:\\Users\\jerry\\AppData\\Local\\Temp/ipykernel_11992/1285053670.py:12: MatplotlibDeprecationWarning: Axes3D(fig) adding itself to the figure is deprecated since 3.4. Pass the keyword argument auto_add_to_figure=False and use fig.add_axes(ax) to suppress this warning. The default value of auto_add_to_figure will change to False in mpl3.5 and True values will no longer work in 3.6.  This is consistent with other Axes classes.\n",
      "  ax = Axes3D(fig)\n",
      "C:\\Users\\jerry\\AppData\\Local\\Temp/ipykernel_11992/1285053670.py:32: DeprecationWarning: Starting with ImageIO v3 the behavior of this function will switch to that of iio.v3.imread. To keep the current behavior (and make this warning dissapear) use `import imageio.v2 as imageio` or call `imageio.v2.imread` directly.\n",
      "  images.append(imageio.imread(fname))\n"
     ]
    },
    {
     "data": {
      "image/png": "[encoded data removed]",
      "text/plain": [
       "<Figure size 576x576 with 1 Axes>"
      ]
     },
     "metadata": {
      "needs_background": "light"
     },
     "output_type": "display_data"
    }
   ],
   "source": [
    "from mpl_toolkits.mplot3d import Axes3D\n",
    "import matplotlib.pyplot as plt\n",
    "import matplotlib.cm as cm\n",
    "import matplotlib.patches as mpatches\n",
    "import os\n",
    "import tempfile\n",
    "import imageio\n",
    "import shutil\n",
    "\n",
    "def tsne_plot_3d_gif(title, label, embeddings, filename, a):\n",
    "    fig = plt.figure(figsize=(8,8))\n",
    "    ax = Axes3D(fig)\n",
    "#     sector_color_dict = {'Industrials':'red','Health Care':'orange','Information Technology':'yellow','Utilities':'green',\n",
    "#                      'Financials':'blue','Materials':'purple','Consumer Discretionary':'cyan','Real Estate':'magenta',\n",
    "#                      'Consumer Staples':'pink','Energy':'brown','Telecommunication Services':'gray'}\n",
    "#     cvec = [sector_color_dict[companies_sector[word]] for word in newWords]\n",
    "\n",
    "    colors = cm.rainbow(np.linspace(0, 1, 1))\n",
    "    plt.scatter(embeddings[:, 0], embeddings[:, 1], embeddings[:, 2], c='darkorange', alpha=a)\n",
    "\n",
    "    plt.title(title)\n",
    "\n",
    "    red_patch = mpatches.Patch(color=colors[0], label=label)\n",
    "    plt.legend(handles=[red_patch], loc=2)\n",
    "\n",
    "    dirpath = tempfile.mkdtemp()\n",
    "    images = []\n",
    "    for angle in range(0, 720, 5):\n",
    "        ax.view_init(20, angle)\n",
    "        fname = os.path.join(dirpath, str(angle) + '.png')\n",
    "        plt.savefig(fname, dpi=120, format='png', bbox_inches='tight')\n",
    "        images.append(imageio.imread(fname))\n",
    "    imageio.mimsave('3d.gif', images)\n",
    "    shutil.rmtree(dirpath)\n",
    "\n",
    "\n",
    "tsne_plot_3d_gif('3D Word Embeedings of the Fine-Tuned Word2Vec using t-SNE', 'Each Tinker Projected in 3D',\n",
    "                                  embeddings_wp_3d, '3d.gif', 1)"
   ]
  },
  {
   "cell_type": "code",
   "execution_count": 77,
   "metadata": {},
   "outputs": [],
   "source": [
    "import numpy as np\n",
    "import matplotlib.pyplot as plt\n",
    "from sklearn.manifold import TSNE\n",
    "from mpl_toolkits.mplot3d import Axes3D"
   ]
  },
  {
   "cell_type": "code",
   "execution_count": 170,
   "metadata": {},
   "outputs": [],
   "source": [
    "from sklearn.datasets import load_digits\n",
    "a = load_digits()"
   ]
  },
  {
   "cell_type": "code",
   "execution_count": 41,
   "metadata": {},
   "outputs": [
    {
     "name": "stderr",
     "output_type": "stream",
     "text": [
      "c:\\users\\jerry\\envs\\nlp\\lib\\site-packages\\sklearn\\manifold\\_t_sne.py:780: FutureWarning: The default initialization in TSNE will change from 'random' to 'pca' in 1.2.\n",
      "  warnings.warn(\n",
      "c:\\users\\jerry\\envs\\nlp\\lib\\site-packages\\sklearn\\manifold\\_t_sne.py:790: FutureWarning: The default learning rate in TSNE will change from 200.0 to 'auto' in 1.2.\n",
      "  warnings.warn(\n",
      "C:\\Users\\jerry\\AppData\\Local\\Temp/ipykernel_20832/3664608671.py:21: MatplotlibDeprecationWarning: Axes3D(fig) adding itself to the figure is deprecated since 3.4. Pass the keyword argument auto_add_to_figure=False and use fig.add_axes(ax) to suppress this warning. The default value of auto_add_to_figure will change to False in mpl3.5 and True values will no longer work in 3.6.  This is consistent with other Axes classes.\n",
      "  ax = Axes3D(fig)\n"
     ]
    },
    {
     "data": {
      "image/png": "[encoded data removed]",
      "text/plain": [
       "<Figure size 432x288 with 1 Axes>"
      ]
     },
     "metadata": {
      "needs_background": "light"
     },
     "output_type": "display_data"
    }
   ],
   "source": [
    "# 将坐标缩放到[0,1]区间  \n",
    "def plot_embedding(data):\n",
    "    x_min, x_max = np.min(data, 0), np.max(data, 0)\n",
    "    data = (data - x_min) / (x_max - x_min)\n",
    "    return data\n",
    "\n",
    "\n",
    "def t_sne(n_components):\n",
    "    if n_components == 2:\n",
    "        tsne_digits = TSNE(n_components=n_components, random_state=35).fit_transform(digits.data)\n",
    "        aim_data = plot_embedding(tsne_digits)\n",
    "        plt.figure()\n",
    "        plt.subplot(111)\n",
    "        plt.scatter(aim_data[:, 0], aim_data[:, 1], c=range(len(X)))\n",
    "        plt.title(\"T-SNE Digits\")\n",
    "        plt.savefig(\"T-SNE_Digits.png\")\n",
    "    elif n_components == 3:\n",
    "        tsne_digits = TSNE(n_components=n_components, random_state=35).fit_transform(digits.data)\n",
    "        aim_data = plot_embedding(tsne_digits)\n",
    "        fig = plt.figure()\n",
    "        ax = Axes3D(fig)\n",
    "        ax.scatter(aim_data[:, 0], aim_data[:, 1], aim_data[:, 2], c=range(len(X)))\n",
    "        plt.title(\"T-SNE Digits\")\n",
    "        plt.savefig(\"T-SNE_Digits_3d.png\")\n",
    "    else:\n",
    "        print(\"The value of n_components can only be 2 or 3\")\n",
    "\n",
    "    plt.show()\n",
    "\n",
    "\n",
    "def main():\n",
    "    t_sne(3)\n",
    "\n",
    "\n",
    "if __name__ == '__main__':\n",
    "    main()"
   ]
  },
  {
   "cell_type": "code",
   "execution_count": null,
   "metadata": {},
   "outputs": [],
   "source": []
  }
 ],
 "metadata": {
  "colab": {
   "collapsed_sections": [],
   "name": "train_embeddings.ipynb",
   "provenance": []
  },
  "kernelspec": {
   "display_name": "Python 3 (ipykernel)",
   "language": "python",
   "name": "python3"
  },
  "language_info": {
   "codemirror_mode": {
    "name": "ipython",
    "version": 3
   },
   "file_extension": ".py",
   "mimetype": "text/x-python",
   "name": "python",
   "nbconvert_exporter": "python",
   "pygments_lexer": "ipython3",
   "version": "3.8.10"
  }
 },
 "nbformat": 4,
 "nbformat_minor": 1
}
